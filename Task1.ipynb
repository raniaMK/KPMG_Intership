{
 "cells": [
  {
   "cell_type": "code",
   "execution_count": 1,
   "id": "dd7cc966",
   "metadata": {},
   "outputs": [],
   "source": [
    "import numpy as np\n",
    "import pandas as pd\n",
    "import matplotlib.pyplot as plt"
   ]
  },
  {
   "cell_type": "code",
   "execution_count": 2,
   "id": "4201366d",
   "metadata": {},
   "outputs": [
    {
     "name": "stdout",
     "output_type": "stream",
     "text": [
      "['Title Sheet', 'Transactions', 'NewCustomerList', 'CustomerDemographic', 'CustomerAddress']\n"
     ]
    }
   ],
   "source": [
    "file_name = 'KPMG_VI_New_raw_data_update_final.xlsx'\n",
    "print(pd.ExcelFile(file_name).sheet_names)"
   ]
  },
  {
   "cell_type": "markdown",
   "id": "04941686",
   "metadata": {},
   "source": [
    "CustomerDemographic"
   ]
  },
  {
   "cell_type": "code",
   "execution_count": 3,
   "id": "d968dfb6",
   "metadata": {},
   "outputs": [
    {
     "name": "stderr",
     "output_type": "stream",
     "text": [
      "C:\\Users\\user\\AppData\\Local\\Temp\\ipykernel_8960\\2001746569.py:1: FutureWarning: Inferring datetime64[ns] from data containing strings is deprecated and will be removed in a future version. To retain the old behavior explicitly pass Series(data, dtype=datetime64[ns])\n",
      "  cust_df = pd.read_excel(file_name, header=1, sheet_name='CustomerDemographic')\n"
     ]
    },
    {
     "data": {
      "text/html": [
       "<div>\n",
       "<style scoped>\n",
       "    .dataframe tbody tr th:only-of-type {\n",
       "        vertical-align: middle;\n",
       "    }\n",
       "\n",
       "    .dataframe tbody tr th {\n",
       "        vertical-align: top;\n",
       "    }\n",
       "\n",
       "    .dataframe thead th {\n",
       "        text-align: right;\n",
       "    }\n",
       "</style>\n",
       "<table border=\"1\" class=\"dataframe\">\n",
       "  <thead>\n",
       "    <tr style=\"text-align: right;\">\n",
       "      <th></th>\n",
       "      <th>customer_id</th>\n",
       "      <th>first_name</th>\n",
       "      <th>last_name</th>\n",
       "      <th>gender</th>\n",
       "      <th>past_3_years_bike_related_purchases</th>\n",
       "      <th>DOB</th>\n",
       "      <th>job_title</th>\n",
       "      <th>job_industry_category</th>\n",
       "      <th>wealth_segment</th>\n",
       "      <th>deceased_indicator</th>\n",
       "      <th>default</th>\n",
       "      <th>owns_car</th>\n",
       "      <th>tenure</th>\n",
       "    </tr>\n",
       "  </thead>\n",
       "  <tbody>\n",
       "    <tr>\n",
       "      <th>0</th>\n",
       "      <td>1</td>\n",
       "      <td>Laraine</td>\n",
       "      <td>Medendorp</td>\n",
       "      <td>F</td>\n",
       "      <td>93</td>\n",
       "      <td>1953-10-12</td>\n",
       "      <td>Executive Secretary</td>\n",
       "      <td>Health</td>\n",
       "      <td>Mass Customer</td>\n",
       "      <td>N</td>\n",
       "      <td>\"'</td>\n",
       "      <td>Yes</td>\n",
       "      <td>11.0</td>\n",
       "    </tr>\n",
       "    <tr>\n",
       "      <th>1</th>\n",
       "      <td>2</td>\n",
       "      <td>Eli</td>\n",
       "      <td>Bockman</td>\n",
       "      <td>Male</td>\n",
       "      <td>81</td>\n",
       "      <td>1980-12-16</td>\n",
       "      <td>Administrative Officer</td>\n",
       "      <td>Financial Services</td>\n",
       "      <td>Mass Customer</td>\n",
       "      <td>N</td>\n",
       "      <td>&lt;script&gt;alert('hi')&lt;/script&gt;</td>\n",
       "      <td>Yes</td>\n",
       "      <td>16.0</td>\n",
       "    </tr>\n",
       "    <tr>\n",
       "      <th>2</th>\n",
       "      <td>3</td>\n",
       "      <td>Arlin</td>\n",
       "      <td>Dearle</td>\n",
       "      <td>Male</td>\n",
       "      <td>61</td>\n",
       "      <td>1954-01-20</td>\n",
       "      <td>Recruiting Manager</td>\n",
       "      <td>Property</td>\n",
       "      <td>Mass Customer</td>\n",
       "      <td>N</td>\n",
       "      <td>2018-02-01 00:00:00</td>\n",
       "      <td>Yes</td>\n",
       "      <td>15.0</td>\n",
       "    </tr>\n",
       "    <tr>\n",
       "      <th>3</th>\n",
       "      <td>4</td>\n",
       "      <td>Talbot</td>\n",
       "      <td>NaN</td>\n",
       "      <td>Male</td>\n",
       "      <td>33</td>\n",
       "      <td>1961-10-03</td>\n",
       "      <td>NaN</td>\n",
       "      <td>IT</td>\n",
       "      <td>Mass Customer</td>\n",
       "      <td>N</td>\n",
       "      <td>() { _; } &gt;_[$($())] { touch /tmp/blns.shellsh...</td>\n",
       "      <td>No</td>\n",
       "      <td>7.0</td>\n",
       "    </tr>\n",
       "    <tr>\n",
       "      <th>4</th>\n",
       "      <td>5</td>\n",
       "      <td>Sheila-kathryn</td>\n",
       "      <td>Calton</td>\n",
       "      <td>Female</td>\n",
       "      <td>56</td>\n",
       "      <td>1977-05-13</td>\n",
       "      <td>Senior Editor</td>\n",
       "      <td>NaN</td>\n",
       "      <td>Affluent Customer</td>\n",
       "      <td>N</td>\n",
       "      <td>NIL</td>\n",
       "      <td>Yes</td>\n",
       "      <td>8.0</td>\n",
       "    </tr>\n",
       "  </tbody>\n",
       "</table>\n",
       "</div>"
      ],
      "text/plain": [
       "   customer_id      first_name  last_name  gender  \\\n",
       "0            1         Laraine  Medendorp       F   \n",
       "1            2             Eli    Bockman    Male   \n",
       "2            3           Arlin     Dearle    Male   \n",
       "3            4          Talbot        NaN    Male   \n",
       "4            5  Sheila-kathryn     Calton  Female   \n",
       "\n",
       "   past_3_years_bike_related_purchases        DOB               job_title  \\\n",
       "0                                   93 1953-10-12     Executive Secretary   \n",
       "1                                   81 1980-12-16  Administrative Officer   \n",
       "2                                   61 1954-01-20      Recruiting Manager   \n",
       "3                                   33 1961-10-03                     NaN   \n",
       "4                                   56 1977-05-13           Senior Editor   \n",
       "\n",
       "  job_industry_category     wealth_segment deceased_indicator  \\\n",
       "0                Health      Mass Customer                  N   \n",
       "1    Financial Services      Mass Customer                  N   \n",
       "2              Property      Mass Customer                  N   \n",
       "3                    IT      Mass Customer                  N   \n",
       "4                   NaN  Affluent Customer                  N   \n",
       "\n",
       "                                             default owns_car  tenure  \n",
       "0                                                 \"'      Yes    11.0  \n",
       "1                       <script>alert('hi')</script>      Yes    16.0  \n",
       "2                                2018-02-01 00:00:00      Yes    15.0  \n",
       "3  () { _; } >_[$($())] { touch /tmp/blns.shellsh...       No     7.0  \n",
       "4                                                NIL      Yes     8.0  "
      ]
     },
     "execution_count": 3,
     "metadata": {},
     "output_type": "execute_result"
    }
   ],
   "source": [
    "cust_df = pd.read_excel(file_name, header=1, sheet_name='CustomerDemographic')\n",
    "cust_df.head()"
   ]
  },
  {
   "cell_type": "code",
   "execution_count": 4,
   "id": "b484dab1",
   "metadata": {},
   "outputs": [
    {
     "data": {
      "text/plain": [
       "(4000, 13)"
      ]
     },
     "execution_count": 4,
     "metadata": {},
     "output_type": "execute_result"
    }
   ],
   "source": [
    "cust_df.shape\n"
   ]
  },
  {
   "cell_type": "code",
   "execution_count": 5,
   "id": "640150c7",
   "metadata": {},
   "outputs": [
    {
     "name": "stderr",
     "output_type": "stream",
     "text": [
      "C:\\Users\\user\\AppData\\Local\\Temp\\ipykernel_8960\\3392443629.py:1: FutureWarning: Dropping of nuisance columns in DataFrame reductions (with 'numeric_only=None') is deprecated; in a future version this will raise TypeError.  Select only valid columns before calling the reduction.\n",
      "  cust_df[cust_df.duplicated()].sum()\n"
     ]
    },
    {
     "data": {
      "text/plain": [
       "customer_id                            0.0\n",
       "first_name                             0.0\n",
       "last_name                              0.0\n",
       "gender                                 0.0\n",
       "past_3_years_bike_related_purchases    0.0\n",
       "job_title                              0.0\n",
       "job_industry_category                  0.0\n",
       "wealth_segment                         0.0\n",
       "deceased_indicator                     0.0\n",
       "default                                0.0\n",
       "owns_car                               0.0\n",
       "tenure                                 0.0\n",
       "dtype: float64"
      ]
     },
     "execution_count": 5,
     "metadata": {},
     "output_type": "execute_result"
    }
   ],
   "source": [
    "cust_df[cust_df.duplicated()].sum()\n"
   ]
  },
  {
   "cell_type": "code",
   "execution_count": 6,
   "id": "d7b57e77",
   "metadata": {},
   "outputs": [
    {
     "name": "stdout",
     "output_type": "stream",
     "text": [
      "customer_id blanks: 0\n"
     ]
    }
   ],
   "source": [
    "print('customer_id blanks:', pd.isna(cust_df['customer_id']).sum())\n"
   ]
  },
  {
   "cell_type": "code",
   "execution_count": 7,
   "id": "159709d5",
   "metadata": {},
   "outputs": [
    {
     "data": {
      "text/plain": [
       "4000"
      ]
     },
     "execution_count": 7,
     "metadata": {},
     "output_type": "execute_result"
    }
   ],
   "source": [
    "pd.notna(cust_df['customer_id'].unique()).sum()\n"
   ]
  },
  {
   "cell_type": "code",
   "execution_count": 8,
   "id": "8b80e06e",
   "metadata": {},
   "outputs": [
    {
     "name": "stdout",
     "output_type": "stream",
     "text": [
      "first_name blanks: 0\n"
     ]
    }
   ],
   "source": [
    "print('first_name blanks:', pd.isna(cust_df['first_name']).sum())\n"
   ]
  },
  {
   "cell_type": "code",
   "execution_count": 9,
   "id": "0df72505",
   "metadata": {},
   "outputs": [
    {
     "name": "stdout",
     "output_type": "stream",
     "text": [
      "gender: ['F' 'Male' 'Female' 'U' 'Femal' 'M']\n",
      "blanks: 0\n"
     ]
    },
    {
     "data": {
      "text/plain": [
       "(array([1.000e+00, 0.000e+00, 1.872e+03, 0.000e+00, 2.037e+03, 0.000e+00,\n",
       "        8.800e+01, 0.000e+00, 1.000e+00, 1.000e+00]),\n",
       " array([0. , 0.5, 1. , 1.5, 2. , 2.5, 3. , 3.5, 4. , 4.5, 5. ]),\n",
       " <BarContainer object of 10 artists>)"
      ]
     },
     "execution_count": 9,
     "metadata": {},
     "output_type": "execute_result"
    },
    {
     "data": {
      "image/png": "[encoded data removed]",
      "text/plain": [
       "<Figure size 432x288 with 1 Axes>"
      ]
     },
     "metadata": {
      "needs_background": "light"
     },
     "output_type": "display_data"
    }
   ],
   "source": [
    "print('gender:', cust_df['gender'].unique())\n",
    "print('blanks:', pd.isna(cust_df['gender']).sum())\n",
    "plt.hist(cust_df['gender'][pd.notna(cust_df['gender'])])"
   ]
  },
  {
   "cell_type": "code",
   "execution_count": 10,
   "id": "58de5e7b",
   "metadata": {},
   "outputs": [
    {
     "data": {
      "text/plain": [
       "count    4000.000000\n",
       "mean       48.890000\n",
       "std        28.715005\n",
       "min         0.000000\n",
       "25%        24.000000\n",
       "50%        48.000000\n",
       "75%        73.000000\n",
       "max        99.000000\n",
       "Name: past_3_years_bike_related_purchases, dtype: float64"
      ]
     },
     "execution_count": 10,
     "metadata": {},
     "output_type": "execute_result"
    }
   ],
   "source": [
    "cust_df['past_3_years_bike_related_purchases'].describe()\n"
   ]
  },
  {
   "cell_type": "code",
   "execution_count": 11,
   "id": "719a0376",
   "metadata": {},
   "outputs": [
    {
     "name": "stdout",
     "output_type": "stream",
     "text": [
      "past_3_years_bike_related_purchases blanks: 0\n"
     ]
    }
   ],
   "source": [
    "print('past_3_years_bike_related_purchases blanks:', pd.isna(cust_df['past_3_years_bike_related_purchases']).sum())"
   ]
  },
  {
   "cell_type": "code",
   "execution_count": 12,
   "id": "f5941e82",
   "metadata": {},
   "outputs": [
    {
     "data": {
      "text/plain": [
       "count                          3913\n",
       "mean     1977-07-12 23:56:41.277792\n",
       "min             1843-12-21 00:00:00\n",
       "25%             1968-01-22 00:00:00\n",
       "50%             1977-07-22 00:00:00\n",
       "75%             1987-02-28 00:00:00\n",
       "max             2002-03-11 00:00:00\n",
       "Name: DOB, dtype: object"
      ]
     },
     "execution_count": 12,
     "metadata": {},
     "output_type": "execute_result"
    }
   ],
   "source": [
    "cust_df['DOB'].describe(datetime_is_numeric=True)\n"
   ]
  },
  {
   "cell_type": "code",
   "execution_count": 13,
   "id": "9fd49f79",
   "metadata": {},
   "outputs": [
    {
     "name": "stdout",
     "output_type": "stream",
     "text": [
      "DOB blanks: 87\n"
     ]
    }
   ],
   "source": [
    "print('DOB blanks:', pd.isna(cust_df['DOB']).sum())"
   ]
  },
  {
   "cell_type": "code",
   "execution_count": 14,
   "id": "2c6180c6",
   "metadata": {},
   "outputs": [
    {
     "data": {
      "text/plain": [
       "<matplotlib.collections.PathCollection at 0x179eed91d90>"
      ]
     },
     "execution_count": 14,
     "metadata": {},
     "output_type": "execute_result"
    },
    {
     "data": {
      "image/png": "[encoded data removed]",
      "text/plain": [
       "<Figure size 432x288 with 1 Axes>"
      ]
     },
     "metadata": {
      "needs_background": "light"
     },
     "output_type": "display_data"
    }
   ],
   "source": [
    "plt.scatter([d.year for d in cust_df['DOB']], [d.month for d in cust_df['DOB']])"
   ]
  },
  {
   "cell_type": "code",
   "execution_count": 15,
   "id": "3b5d1f4f",
   "metadata": {},
   "outputs": [],
   "source": [
    "from datetime import datetime\n",
    "cust_df['age'] = (datetime.now() - cust_df['DOB']) // 365"
   ]
  },
  {
   "cell_type": "code",
   "execution_count": 16,
   "id": "f68cd73a",
   "metadata": {},
   "outputs": [
    {
     "data": {
      "text/plain": [
       "count                           3913\n",
       "mean      45 days 21:55:44.716517306\n",
       "std       12 days 19:17:57.825070499\n",
       "min       21 days 05:41:16.226867421\n",
       "25%       36 days 06:40:26.911798928\n",
       "50%       45 days 21:20:13.761113997\n",
       "75%       55 days 09:26:08.829607147\n",
       "max      179 days 13:30:44.993990709\n",
       "Name: age, dtype: object"
      ]
     },
     "execution_count": 16,
     "metadata": {},
     "output_type": "execute_result"
    }
   ],
   "source": [
    "cust_df['age'].describe()"
   ]
  },
  {
   "cell_type": "code",
   "execution_count": 17,
   "id": "9a3cfd3a",
   "metadata": {},
   "outputs": [
    {
     "data": {
      "text/plain": [
       "<matplotlib.collections.PathCollection at 0x179eedac490>"
      ]
     },
     "execution_count": 17,
     "metadata": {},
     "output_type": "execute_result"
    },
    {
     "data": {
      "image/png": "[encoded data removed]",
      "text/plain": [
       "<Figure size 432x288 with 1 Axes>"
      ]
     },
     "metadata": {
      "needs_background": "light"
     },
     "output_type": "display_data"
    }
   ],
   "source": [
    "plt.scatter([d.year for d in cust_df['DOB']], cust_df['age'].dt.days)"
   ]
  },
  {
   "cell_type": "code",
   "execution_count": 18,
   "id": "91409db4",
   "metadata": {},
   "outputs": [
    {
     "name": "stdout",
     "output_type": "stream",
     "text": [
      "job_title: ['Executive Secretary' 'Administrative Officer' 'Recruiting Manager' nan\n",
      " 'Senior Editor' 'Media Manager I' 'Business Systems Development Analyst'\n",
      " 'Senior Quality Engineer' 'Nuclear Power Engineer' 'Developer I'\n",
      " 'Account Executive' 'Junior Executive' 'Media Manager IV'\n",
      " 'Sales Associate' 'Professor' 'Geological Engineer' 'Project Manager'\n",
      " 'Safety Technician I' 'Research Assistant I' 'Accounting Assistant III'\n",
      " 'Editor' 'Research Nurse' 'Safety Technician III' 'Staff Accountant III'\n",
      " 'Legal Assistant' 'Product Engineer' 'Information Systems Manager'\n",
      " 'VP Quality Control' 'Social Worker' 'Senior Cost Accountant'\n",
      " 'Assistant Media Planner' 'Payment Adjustment Coordinator' 'Food Chemist'\n",
      " 'Accountant III' 'Director of Sales' 'Senior Financial Analyst'\n",
      " 'Registered Nurse' 'Biostatistician II' 'Computer Systems Analyst II'\n",
      " 'Software Test Engineer II' 'Paralegal' 'VP Sales'\n",
      " 'Chief Design Engineer' 'Office Assistant III'\n",
      " 'Physical Therapy Assistant' 'Help Desk Operator' 'Web Developer II'\n",
      " 'Research Associate' 'Teacher' 'VP Product Management' 'Statistician II'\n",
      " 'Automation Specialist IV' 'Data Coordiator' 'Software Test Engineer III'\n",
      " 'Internal Auditor' 'Analyst Programmer' 'Occupational Therapist'\n",
      " 'Speech Pathologist' 'Quality Control Specialist' 'Civil Engineer'\n",
      " 'Software Engineer III' 'Community Outreach Specialist'\n",
      " 'Safety Technician IV' 'VP Accounting' 'General Manager'\n",
      " 'Nurse Practicioner' 'Automation Specialist II' 'Marketing Assistant'\n",
      " 'Marketing Manager' 'Staff Scientist' 'Assistant Professor'\n",
      " 'Budget/Accounting Analyst IV' 'Associate Professor' 'Graphic Designer'\n",
      " 'Administrative Assistant II' 'Compensation Analyst'\n",
      " 'Systems Administrator III' 'Financial Advisor' 'Chemical Engineer'\n",
      " 'Web Designer I' 'Senior Developer' 'Office Assistant II' 'Recruiter'\n",
      " 'Operator' 'Programmer Analyst III' 'Quality Engineer'\n",
      " 'Environmental Tech' 'Analog Circuit Design manager' 'Cost Accountant'\n",
      " 'Librarian' 'Structural Analysis Engineer' 'Pharmacist'\n",
      " 'Assistant Manager' 'Accountant I' 'Web Designer III' 'Geologist III'\n",
      " 'Software Test Engineer I' 'Structural Engineer' 'Safety Technician II'\n",
      " 'Web Developer III' 'Programmer Analyst II' 'Design Engineer'\n",
      " 'Statistician I' 'VP Marketing' 'Desktop Support Technician' 'Actuary'\n",
      " 'Database Administrator III' 'Electrical Engineer' 'Tax Accountant'\n",
      " 'Clinical Specialist' 'Database Administrator IV'\n",
      " 'Systems Administrator II' 'Account Coordinator' 'Programmer III'\n",
      " 'Administrative Assistant III' 'Nurse' 'Technical Writer'\n",
      " 'Staff Accountant II' 'Dental Hygienist' 'Sales Representative'\n",
      " 'Budget/Accounting Analyst III' 'Computer Systems Analyst IV'\n",
      " 'Geologist I' 'Financial Analyst' 'Accounting Assistant II'\n",
      " 'Senior Sales Associate' 'Database Administrator II' 'Engineer I'\n",
      " 'Budget/Accounting Analyst I' 'Developer IV' 'Database Administrator I'\n",
      " 'Environmental Specialist' 'Computer Systems Analyst I'\n",
      " 'Account Representative IV' 'Statistician IV' 'Human Resources Manager'\n",
      " 'GIS Technical Architect' 'Programmer IV' 'Accounting Assistant IV'\n",
      " 'Software Engineer IV' 'Programmer II' 'Engineer III'\n",
      " 'Software Consultant' 'Biostatistician IV' 'Help Desk Technician'\n",
      " 'Automation Specialist I' 'Developer III' 'Human Resources Assistant I'\n",
      " 'Geologist IV' 'Media Manager II' 'Statistician III' 'Engineer II'\n",
      " 'Health Coach II' 'Developer II' 'Systems Administrator I'\n",
      " 'Web Developer I' 'Software Engineer II' 'Accounting Assistant I'\n",
      " 'Research Assistant II' 'Programmer Analyst IV' 'Health Coach I'\n",
      " 'Accountant II' 'Automation Specialist III' 'Administrative Assistant I'\n",
      " 'Health Coach IV' 'Media Manager III' 'Account Representative III'\n",
      " 'Web Designer IV' 'Budget/Accounting Analyst II' 'Web Developer IV'\n",
      " 'Programmer I' 'Biostatistician III' 'Software Test Engineer IV'\n",
      " 'Research Assistant IV' 'Account Representative I' 'Accountant IV'\n",
      " 'Biostatistician I' 'Human Resources Assistant IV'\n",
      " 'Administrative Assistant IV' 'Office Assistant I'\n",
      " 'Human Resources Assistant II' 'Mechanical Systems Engineer'\n",
      " 'Engineer IV' 'Health Coach III' 'Office Assistant IV'\n",
      " 'Software Engineer I' 'Human Resources Assistant III'\n",
      " 'Staff Accountant I' 'Computer Systems Analyst III' 'Geologist II'\n",
      " 'Web Designer II' 'Staff Accountant IV' 'Account Representative II'\n",
      " 'Programmer Analyst I' 'Systems Administrator IV'\n",
      " 'Research Assistant III']\n",
      "blanks: 506\n"
     ]
    }
   ],
   "source": [
    "print('job_title:', cust_df['job_title'].unique())\n",
    "print('blanks:', pd.isna(cust_df['job_title']).sum())"
   ]
  },
  {
   "cell_type": "code",
   "execution_count": 19,
   "id": "ab54cd7c",
   "metadata": {},
   "outputs": [
    {
     "name": "stdout",
     "output_type": "stream",
     "text": [
      "job_industry_category: ['Health' 'Financial Services' 'Property' 'IT' nan 'Retail' 'Argiculture'\n",
      " 'Manufacturing' 'Telecommunications' 'Entertainment']\n",
      "blanks: 656\n"
     ]
    }
   ],
   "source": [
    "print('job_industry_category:', cust_df['job_industry_category'].unique())\n",
    "print('blanks:', pd.isna(cust_df['job_industry_category']).sum())"
   ]
  },
  {
   "cell_type": "code",
   "execution_count": 20,
   "id": "cebf6b96",
   "metadata": {},
   "outputs": [
    {
     "name": "stdout",
     "output_type": "stream",
     "text": [
      "wealth_segment: ['Mass Customer' 'Affluent Customer' 'High Net Worth']\n",
      "blanks: 0\n"
     ]
    },
    {
     "data": {
      "text/plain": [
       "(array([2000.,    0.,    0.,    0.,    0.,  979.,    0.,    0.,    0.,\n",
       "        1021.]),\n",
       " array([0. , 0.2, 0.4, 0.6, 0.8, 1. , 1.2, 1.4, 1.6, 1.8, 2. ]),\n",
       " <BarContainer object of 10 artists>)"
      ]
     },
     "execution_count": 20,
     "metadata": {},
     "output_type": "execute_result"
    },
    {
     "data": {
      "image/png": "[encoded data removed]",
      "text/plain": [
       "<Figure size 432x288 with 1 Axes>"
      ]
     },
     "metadata": {
      "needs_background": "light"
     },
     "output_type": "display_data"
    }
   ],
   "source": [
    "print('wealth_segment:', cust_df['wealth_segment'].unique())\n",
    "print('blanks:', pd.isna(cust_df['wealth_segment']).sum())\n",
    "\n",
    "plt.hist(cust_df['wealth_segment'][pd.notna(cust_df['wealth_segment'])])"
   ]
  },
  {
   "cell_type": "code",
   "execution_count": 21,
   "id": "2b4a78ad",
   "metadata": {},
   "outputs": [
    {
     "name": "stdout",
     "output_type": "stream",
     "text": [
      "deceased_indicator: ['N' 'Y']\n",
      "blanks: 0\n"
     ]
    },
    {
     "data": {
      "text/plain": [
       "(array([3.998e+03, 0.000e+00, 0.000e+00, 0.000e+00, 0.000e+00, 0.000e+00,\n",
       "        0.000e+00, 0.000e+00, 0.000e+00, 2.000e+00]),\n",
       " array([0. , 0.1, 0.2, 0.3, 0.4, 0.5, 0.6, 0.7, 0.8, 0.9, 1. ]),\n",
       " <BarContainer object of 10 artists>)"
      ]
     },
     "execution_count": 21,
     "metadata": {},
     "output_type": "execute_result"
    },
    {
     "data": {
      "image/png": "[encoded data removed]",
      "text/plain": [
       "<Figure size 432x288 with 1 Axes>"
      ]
     },
     "metadata": {
      "needs_background": "light"
     },
     "output_type": "display_data"
    }
   ],
   "source": [
    "print('deceased_indicator:', cust_df['deceased_indicator'].unique())\n",
    "print('blanks:', pd.isna(cust_df['deceased_indicator']).sum())\n",
    "plt.hist(cust_df['deceased_indicator'][pd.notna(cust_df['deceased_indicator'])])"
   ]
  },
  {
   "cell_type": "code",
   "execution_count": 22,
   "id": "e2437151",
   "metadata": {},
   "outputs": [
    {
     "data": {
      "text/plain": [
       "2"
      ]
     },
     "execution_count": 22,
     "metadata": {},
     "output_type": "execute_result"
    }
   ],
   "source": [
    "cust_df['deceased_indicator'][cust_df['deceased_indicator'] == 'Y'].count()"
   ]
  },
  {
   "cell_type": "code",
   "execution_count": 23,
   "id": "14257556",
   "metadata": {},
   "outputs": [
    {
     "name": "stdout",
     "output_type": "stream",
     "text": [
      "owns_car: ['Yes' 'No']\n",
      "blanks: 0\n"
     ]
    },
    {
     "data": {
      "text/plain": [
       "(array([2024.,    0.,    0.,    0.,    0.,    0.,    0.,    0.,    0.,\n",
       "        1976.]),\n",
       " array([0. , 0.1, 0.2, 0.3, 0.4, 0.5, 0.6, 0.7, 0.8, 0.9, 1. ]),\n",
       " <BarContainer object of 10 artists>)"
      ]
     },
     "execution_count": 23,
     "metadata": {},
     "output_type": "execute_result"
    },
    {
     "data": {
      "image/png": "[encoded data removed]",
      "text/plain": [
       "<Figure size 432x288 with 1 Axes>"
      ]
     },
     "metadata": {
      "needs_background": "light"
     },
     "output_type": "display_data"
    }
   ],
   "source": [
    "print('owns_car:', cust_df['owns_car'].unique())\n",
    "print('blanks:', pd.isna(cust_df['owns_car']).sum())\n",
    "plt.hist(cust_df['owns_car'][pd.notna(cust_df['owns_car'])])"
   ]
  },
  {
   "cell_type": "code",
   "execution_count": 24,
   "id": "4d916067",
   "metadata": {},
   "outputs": [
    {
     "data": {
      "text/plain": [
       "count    3913.000000\n",
       "mean       10.657041\n",
       "std         5.660146\n",
       "min         1.000000\n",
       "25%         6.000000\n",
       "50%        11.000000\n",
       "75%        15.000000\n",
       "max        22.000000\n",
       "Name: tenure, dtype: float64"
      ]
     },
     "execution_count": 24,
     "metadata": {},
     "output_type": "execute_result"
    }
   ],
   "source": [
    "cust_df['tenure'].describe()"
   ]
  },
  {
   "cell_type": "code",
   "execution_count": 25,
   "id": "adb11111",
   "metadata": {},
   "outputs": [
    {
     "name": "stdout",
     "output_type": "stream",
     "text": [
      "tenure blanks: 87\n"
     ]
    }
   ],
   "source": [
    "print('tenure blanks:', pd.isna(cust_df['tenure']).sum())"
   ]
  },
  {
   "cell_type": "markdown",
   "id": "7a40f0fd",
   "metadata": {},
   "source": [
    "CustomerAddress"
   ]
  },
  {
   "cell_type": "code",
   "execution_count": 26,
   "id": "93406de0",
   "metadata": {},
   "outputs": [
    {
     "data": {
      "text/html": [
       "<div>\n",
       "<style scoped>\n",
       "    .dataframe tbody tr th:only-of-type {\n",
       "        vertical-align: middle;\n",
       "    }\n",
       "\n",
       "    .dataframe tbody tr th {\n",
       "        vertical-align: top;\n",
       "    }\n",
       "\n",
       "    .dataframe thead th {\n",
       "        text-align: right;\n",
       "    }\n",
       "</style>\n",
       "<table border=\"1\" class=\"dataframe\">\n",
       "  <thead>\n",
       "    <tr style=\"text-align: right;\">\n",
       "      <th></th>\n",
       "      <th>customer_id</th>\n",
       "      <th>address</th>\n",
       "      <th>postcode</th>\n",
       "      <th>state</th>\n",
       "      <th>country</th>\n",
       "      <th>property_valuation</th>\n",
       "    </tr>\n",
       "  </thead>\n",
       "  <tbody>\n",
       "    <tr>\n",
       "      <th>0</th>\n",
       "      <td>1</td>\n",
       "      <td>060 Morning Avenue</td>\n",
       "      <td>2016</td>\n",
       "      <td>New South Wales</td>\n",
       "      <td>Australia</td>\n",
       "      <td>10</td>\n",
       "    </tr>\n",
       "    <tr>\n",
       "      <th>1</th>\n",
       "      <td>2</td>\n",
       "      <td>6 Meadow Vale Court</td>\n",
       "      <td>2153</td>\n",
       "      <td>New South Wales</td>\n",
       "      <td>Australia</td>\n",
       "      <td>10</td>\n",
       "    </tr>\n",
       "    <tr>\n",
       "      <th>2</th>\n",
       "      <td>4</td>\n",
       "      <td>0 Holy Cross Court</td>\n",
       "      <td>4211</td>\n",
       "      <td>QLD</td>\n",
       "      <td>Australia</td>\n",
       "      <td>9</td>\n",
       "    </tr>\n",
       "    <tr>\n",
       "      <th>3</th>\n",
       "      <td>5</td>\n",
       "      <td>17979 Del Mar Point</td>\n",
       "      <td>2448</td>\n",
       "      <td>New South Wales</td>\n",
       "      <td>Australia</td>\n",
       "      <td>4</td>\n",
       "    </tr>\n",
       "    <tr>\n",
       "      <th>4</th>\n",
       "      <td>6</td>\n",
       "      <td>9 Oakridge Court</td>\n",
       "      <td>3216</td>\n",
       "      <td>VIC</td>\n",
       "      <td>Australia</td>\n",
       "      <td>9</td>\n",
       "    </tr>\n",
       "  </tbody>\n",
       "</table>\n",
       "</div>"
      ],
      "text/plain": [
       "   customer_id              address  postcode            state    country  \\\n",
       "0            1   060 Morning Avenue      2016  New South Wales  Australia   \n",
       "1            2  6 Meadow Vale Court      2153  New South Wales  Australia   \n",
       "2            4   0 Holy Cross Court      4211              QLD  Australia   \n",
       "3            5  17979 Del Mar Point      2448  New South Wales  Australia   \n",
       "4            6     9 Oakridge Court      3216              VIC  Australia   \n",
       "\n",
       "   property_valuation  \n",
       "0                  10  \n",
       "1                  10  \n",
       "2                   9  \n",
       "3                   4  \n",
       "4                   9  "
      ]
     },
     "execution_count": 26,
     "metadata": {},
     "output_type": "execute_result"
    }
   ],
   "source": [
    "cust_addr_df = pd.read_excel(file_name, header=1, sheet_name='CustomerAddress')\n",
    "cust_addr_df.head()"
   ]
  },
  {
   "cell_type": "code",
   "execution_count": 27,
   "id": "97075806",
   "metadata": {},
   "outputs": [
    {
     "data": {
      "text/plain": [
       "(3999, 6)"
      ]
     },
     "execution_count": 27,
     "metadata": {},
     "output_type": "execute_result"
    }
   ],
   "source": [
    "cust_addr_df.shape"
   ]
  },
  {
   "cell_type": "code",
   "execution_count": 28,
   "id": "d1970cc0",
   "metadata": {},
   "outputs": [
    {
     "data": {
      "text/plain": [
       "customer_id           0.0\n",
       "address               0.0\n",
       "postcode              0.0\n",
       "state                 0.0\n",
       "country               0.0\n",
       "property_valuation    0.0\n",
       "dtype: float64"
      ]
     },
     "execution_count": 28,
     "metadata": {},
     "output_type": "execute_result"
    }
   ],
   "source": [
    "cust_addr_df[cust_addr_df.duplicated()].sum()"
   ]
  },
  {
   "cell_type": "code",
   "execution_count": 29,
   "id": "e5278b9c",
   "metadata": {},
   "outputs": [
    {
     "name": "stdout",
     "output_type": "stream",
     "text": [
      "customer_id blanks: 0\n"
     ]
    }
   ],
   "source": [
    "print('customer_id blanks:', pd.isna(cust_addr_df['customer_id']).sum())"
   ]
  },
  {
   "cell_type": "code",
   "execution_count": 30,
   "id": "b3a8f146",
   "metadata": {},
   "outputs": [
    {
     "data": {
      "text/plain": [
       "3999"
      ]
     },
     "execution_count": 30,
     "metadata": {},
     "output_type": "execute_result"
    }
   ],
   "source": [
    "pd.notna(cust_addr_df['customer_id'].unique()).sum()"
   ]
  },
  {
   "cell_type": "code",
   "execution_count": 33,
   "id": "bcf24db6",
   "metadata": {},
   "outputs": [
    {
     "name": "stdout",
     "output_type": "stream",
     "text": [
      "customer_ids not in demographics dataset: 4\n"
     ]
    }
   ],
   "source": [
    "print('customer_ids not in demographics dataset:', sum([(1 if (i not in cust_df['customer_id']) else 0) for i in cust_addr_df['customer_id']]))"
   ]
  },
  {
   "cell_type": "code",
   "execution_count": 34,
   "id": "6736de7c",
   "metadata": {},
   "outputs": [
    {
     "name": "stdout",
     "output_type": "stream",
     "text": [
      "address blanks: 0\n"
     ]
    }
   ],
   "source": [
    "print('address blanks:', pd.isna(cust_addr_df['address']).sum())"
   ]
  },
  {
   "cell_type": "code",
   "execution_count": 35,
   "id": "10d18094",
   "metadata": {},
   "outputs": [
    {
     "name": "stdout",
     "output_type": "stream",
     "text": [
      "postcode blanks: 0\n"
     ]
    }
   ],
   "source": [
    "print('postcode blanks:', pd.isna(cust_addr_df['postcode']).sum())"
   ]
  },
  {
   "cell_type": "code",
   "execution_count": 36,
   "id": "2658f3d9",
   "metadata": {},
   "outputs": [
    {
     "name": "stdout",
     "output_type": "stream",
     "text": [
      "state: ['New South Wales' 'QLD' 'VIC' 'NSW' 'Victoria']\n",
      "blanks: 0\n"
     ]
    },
    {
     "data": {
      "text/plain": [
       "(array([  86.,    0.,  838.,    0.,    0.,  939.,    0., 2054.,    0.,\n",
       "          82.]),\n",
       " array([0. , 0.4, 0.8, 1.2, 1.6, 2. , 2.4, 2.8, 3.2, 3.6, 4. ]),\n",
       " <BarContainer object of 10 artists>)"
      ]
     },
     "execution_count": 36,
     "metadata": {},
     "output_type": "execute_result"
    },
    {
     "data": {
      "image/png": "[encoded data removed]",
      "text/plain": [
       "<Figure size 432x288 with 1 Axes>"
      ]
     },
     "metadata": {
      "needs_background": "light"
     },
     "output_type": "display_data"
    }
   ],
   "source": [
    "print('state:', cust_addr_df['state'].unique())\n",
    "print('blanks:', pd.isna(cust_addr_df['state']).sum())\n",
    "plt.hist(cust_addr_df['state'][pd.notna(cust_addr_df['state'])])"
   ]
  },
  {
   "cell_type": "code",
   "execution_count": 37,
   "id": "f73e3b4b",
   "metadata": {},
   "outputs": [
    {
     "name": "stdout",
     "output_type": "stream",
     "text": [
      "country: ['Australia']\n",
      "blanks: 0\n"
     ]
    }
   ],
   "source": [
    "print('country:', cust_addr_df['country'].unique())\n",
    "print('blanks:', pd.isna(cust_addr_df['country']).sum())"
   ]
  },
  {
   "cell_type": "code",
   "execution_count": 38,
   "id": "1391804e",
   "metadata": {},
   "outputs": [
    {
     "data": {
      "text/plain": [
       "count    3999.000000\n",
       "mean        7.514379\n",
       "std         2.824663\n",
       "min         1.000000\n",
       "25%         6.000000\n",
       "50%         8.000000\n",
       "75%        10.000000\n",
       "max        12.000000\n",
       "Name: property_valuation, dtype: float64"
      ]
     },
     "execution_count": 38,
     "metadata": {},
     "output_type": "execute_result"
    }
   ],
   "source": [
    "cust_addr_df['property_valuation'].describe()\n"
   ]
  },
  {
   "cell_type": "code",
   "execution_count": 39,
   "id": "af07bdb5",
   "metadata": {},
   "outputs": [
    {
     "name": "stdout",
     "output_type": "stream",
     "text": [
      "property_valuation blanks: 0\n"
     ]
    },
    {
     "data": {
      "text/plain": [
       "(array([297., 186., 214., 225., 238., 493., 646., 647., 577., 476.]),\n",
       " array([ 1. ,  2.1,  3.2,  4.3,  5.4,  6.5,  7.6,  8.7,  9.8, 10.9, 12. ]),\n",
       " <BarContainer object of 10 artists>)"
      ]
     },
     "execution_count": 39,
     "metadata": {},
     "output_type": "execute_result"
    },
    {
     "data": {
      "image/png": "[encoded data removed]",
      "text/plain": [
       "<Figure size 432x288 with 1 Axes>"
      ]
     },
     "metadata": {
      "needs_background": "light"
     },
     "output_type": "display_data"
    }
   ],
   "source": [
    "print('property_valuation blanks:', pd.isna(cust_addr_df['property_valuation']).sum())\n",
    "plt.hist(cust_addr_df['property_valuation'], bins=10)"
   ]
  },
  {
   "cell_type": "markdown",
   "id": "3172354a",
   "metadata": {},
   "source": [
    "Transactions"
   ]
  },
  {
   "cell_type": "code",
   "execution_count": 40,
   "id": "ee500c84",
   "metadata": {},
   "outputs": [
    {
     "data": {
      "text/html": [
       "<div>\n",
       "<style scoped>\n",
       "    .dataframe tbody tr th:only-of-type {\n",
       "        vertical-align: middle;\n",
       "    }\n",
       "\n",
       "    .dataframe tbody tr th {\n",
       "        vertical-align: top;\n",
       "    }\n",
       "\n",
       "    .dataframe thead th {\n",
       "        text-align: right;\n",
       "    }\n",
       "</style>\n",
       "<table border=\"1\" class=\"dataframe\">\n",
       "  <thead>\n",
       "    <tr style=\"text-align: right;\">\n",
       "      <th></th>\n",
       "      <th>transaction_id</th>\n",
       "      <th>product_id</th>\n",
       "      <th>customer_id</th>\n",
       "      <th>transaction_date</th>\n",
       "      <th>online_order</th>\n",
       "      <th>order_status</th>\n",
       "      <th>brand</th>\n",
       "      <th>product_line</th>\n",
       "      <th>product_class</th>\n",
       "      <th>product_size</th>\n",
       "      <th>list_price</th>\n",
       "      <th>standard_cost</th>\n",
       "      <th>product_first_sold_date</th>\n",
       "    </tr>\n",
       "  </thead>\n",
       "  <tbody>\n",
       "    <tr>\n",
       "      <th>0</th>\n",
       "      <td>1</td>\n",
       "      <td>2</td>\n",
       "      <td>2950</td>\n",
       "      <td>2017-02-25</td>\n",
       "      <td>0.0</td>\n",
       "      <td>Approved</td>\n",
       "      <td>Solex</td>\n",
       "      <td>Standard</td>\n",
       "      <td>medium</td>\n",
       "      <td>medium</td>\n",
       "      <td>71.49</td>\n",
       "      <td>53.62</td>\n",
       "      <td>41245.0</td>\n",
       "    </tr>\n",
       "    <tr>\n",
       "      <th>1</th>\n",
       "      <td>2</td>\n",
       "      <td>3</td>\n",
       "      <td>3120</td>\n",
       "      <td>2017-05-21</td>\n",
       "      <td>1.0</td>\n",
       "      <td>Approved</td>\n",
       "      <td>Trek Bicycles</td>\n",
       "      <td>Standard</td>\n",
       "      <td>medium</td>\n",
       "      <td>large</td>\n",
       "      <td>2091.47</td>\n",
       "      <td>388.92</td>\n",
       "      <td>41701.0</td>\n",
       "    </tr>\n",
       "    <tr>\n",
       "      <th>2</th>\n",
       "      <td>3</td>\n",
       "      <td>37</td>\n",
       "      <td>402</td>\n",
       "      <td>2017-10-16</td>\n",
       "      <td>0.0</td>\n",
       "      <td>Approved</td>\n",
       "      <td>OHM Cycles</td>\n",
       "      <td>Standard</td>\n",
       "      <td>low</td>\n",
       "      <td>medium</td>\n",
       "      <td>1793.43</td>\n",
       "      <td>248.82</td>\n",
       "      <td>36361.0</td>\n",
       "    </tr>\n",
       "    <tr>\n",
       "      <th>3</th>\n",
       "      <td>4</td>\n",
       "      <td>88</td>\n",
       "      <td>3135</td>\n",
       "      <td>2017-08-31</td>\n",
       "      <td>0.0</td>\n",
       "      <td>Approved</td>\n",
       "      <td>Norco Bicycles</td>\n",
       "      <td>Standard</td>\n",
       "      <td>medium</td>\n",
       "      <td>medium</td>\n",
       "      <td>1198.46</td>\n",
       "      <td>381.10</td>\n",
       "      <td>36145.0</td>\n",
       "    </tr>\n",
       "    <tr>\n",
       "      <th>4</th>\n",
       "      <td>5</td>\n",
       "      <td>78</td>\n",
       "      <td>787</td>\n",
       "      <td>2017-10-01</td>\n",
       "      <td>1.0</td>\n",
       "      <td>Approved</td>\n",
       "      <td>Giant Bicycles</td>\n",
       "      <td>Standard</td>\n",
       "      <td>medium</td>\n",
       "      <td>large</td>\n",
       "      <td>1765.30</td>\n",
       "      <td>709.48</td>\n",
       "      <td>42226.0</td>\n",
       "    </tr>\n",
       "  </tbody>\n",
       "</table>\n",
       "</div>"
      ],
      "text/plain": [
       "   transaction_id  product_id  customer_id transaction_date  online_order  \\\n",
       "0               1           2         2950       2017-02-25           0.0   \n",
       "1               2           3         3120       2017-05-21           1.0   \n",
       "2               3          37          402       2017-10-16           0.0   \n",
       "3               4          88         3135       2017-08-31           0.0   \n",
       "4               5          78          787       2017-10-01           1.0   \n",
       "\n",
       "  order_status           brand product_line product_class product_size  \\\n",
       "0     Approved           Solex     Standard        medium       medium   \n",
       "1     Approved   Trek Bicycles     Standard        medium        large   \n",
       "2     Approved      OHM Cycles     Standard           low       medium   \n",
       "3     Approved  Norco Bicycles     Standard        medium       medium   \n",
       "4     Approved  Giant Bicycles     Standard        medium        large   \n",
       "\n",
       "   list_price  standard_cost  product_first_sold_date  \n",
       "0       71.49          53.62                  41245.0  \n",
       "1     2091.47         388.92                  41701.0  \n",
       "2     1793.43         248.82                  36361.0  \n",
       "3     1198.46         381.10                  36145.0  \n",
       "4     1765.30         709.48                  42226.0  "
      ]
     },
     "execution_count": 40,
     "metadata": {},
     "output_type": "execute_result"
    }
   ],
   "source": [
    "txns_df = pd.read_excel(file_name, header=1, sheet_name='Transactions')\n",
    "txns_df.head()"
   ]
  },
  {
   "cell_type": "code",
   "execution_count": 41,
   "id": "4204e8d1",
   "metadata": {},
   "outputs": [
    {
     "data": {
      "text/plain": [
       "(20000, 13)"
      ]
     },
     "execution_count": 41,
     "metadata": {},
     "output_type": "execute_result"
    }
   ],
   "source": [
    "txns_df.shape\n"
   ]
  },
  {
   "cell_type": "code",
   "execution_count": 42,
   "id": "c0f62399",
   "metadata": {},
   "outputs": [
    {
     "name": "stderr",
     "output_type": "stream",
     "text": [
      "C:\\Users\\user\\AppData\\Local\\Temp\\ipykernel_8960\\96607138.py:1: FutureWarning: Dropping of nuisance columns in DataFrame reductions (with 'numeric_only=None') is deprecated; in a future version this will raise TypeError.  Select only valid columns before calling the reduction.\n",
      "  txns_df[txns_df.duplicated()].sum()\n"
     ]
    },
    {
     "data": {
      "text/plain": [
       "transaction_id             0.0\n",
       "product_id                 0.0\n",
       "customer_id                0.0\n",
       "online_order               0.0\n",
       "order_status               0.0\n",
       "brand                      0.0\n",
       "product_line               0.0\n",
       "product_class              0.0\n",
       "product_size               0.0\n",
       "list_price                 0.0\n",
       "standard_cost              0.0\n",
       "product_first_sold_date    0.0\n",
       "dtype: float64"
      ]
     },
     "execution_count": 42,
     "metadata": {},
     "output_type": "execute_result"
    }
   ],
   "source": [
    "txns_df[txns_df.duplicated()].sum()\n"
   ]
  },
  {
   "cell_type": "code",
   "execution_count": 43,
   "id": "1def8301",
   "metadata": {},
   "outputs": [
    {
     "data": {
      "text/plain": [
       "count    20000.000000\n",
       "mean      1107.829449\n",
       "std        582.825242\n",
       "min         12.010000\n",
       "25%        575.270000\n",
       "50%       1163.890000\n",
       "75%       1635.300000\n",
       "max       2091.470000\n",
       "Name: list_price, dtype: float64"
      ]
     },
     "execution_count": 43,
     "metadata": {},
     "output_type": "execute_result"
    }
   ],
   "source": [
    "txns_df['list_price'].describe()\n"
   ]
  },
  {
   "cell_type": "code",
   "execution_count": 44,
   "id": "5a94c074",
   "metadata": {},
   "outputs": [
    {
     "name": "stdout",
     "output_type": "stream",
     "text": [
      "list_price blanks: 0\n"
     ]
    }
   ],
   "source": [
    "print('list_price blanks:', pd.isna(txns_df['list_price']).sum())\n"
   ]
  },
  {
   "cell_type": "code",
   "execution_count": 45,
   "id": "19793601",
   "metadata": {},
   "outputs": [
    {
     "data": {
      "text/plain": [
       "count    19803.000000\n",
       "mean       556.046951\n",
       "std        405.955660\n",
       "min          7.210000\n",
       "25%        215.140000\n",
       "50%        507.580000\n",
       "75%        795.100000\n",
       "max       1759.850000\n",
       "Name: standard_cost, dtype: float64"
      ]
     },
     "execution_count": 45,
     "metadata": {},
     "output_type": "execute_result"
    }
   ],
   "source": [
    "txns_df['standard_cost'].describe()\n"
   ]
  },
  {
   "cell_type": "code",
   "execution_count": 46,
   "id": "8375b19e",
   "metadata": {},
   "outputs": [
    {
     "name": "stdout",
     "output_type": "stream",
     "text": [
      "standard_cost blanks: 197\n"
     ]
    }
   ],
   "source": [
    "print('standard_cost blanks:', pd.isna(txns_df['standard_cost']).sum())\n"
   ]
  },
  {
   "cell_type": "code",
   "execution_count": 47,
   "id": "1bfd06a1",
   "metadata": {},
   "outputs": [
    {
     "data": {
      "text/plain": [
       "count    19803.000000\n",
       "mean       551.950915\n",
       "std        493.412849\n",
       "min          4.800000\n",
       "25%        133.780000\n",
       "50%        445.210000\n",
       "75%        830.240000\n",
       "max       1702.550000\n",
       "Name: profit, dtype: float64"
      ]
     },
     "execution_count": 47,
     "metadata": {},
     "output_type": "execute_result"
    }
   ],
   "source": [
    "txns_df['profit'] = txns_df['list_price'] - txns_df['standard_cost']\n",
    "txns_df['profit'].describe()"
   ]
  },
  {
   "cell_type": "code",
   "execution_count": 48,
   "id": "1a472b26",
   "metadata": {},
   "outputs": [
    {
     "name": "stdout",
     "output_type": "stream",
     "text": [
      "transaction_id blanks: 0\n"
     ]
    }
   ],
   "source": [
    "print('transaction_id blanks:', pd.isna(txns_df['transaction_id']).sum())\n"
   ]
  },
  {
   "cell_type": "code",
   "execution_count": 49,
   "id": "7644169d",
   "metadata": {},
   "outputs": [
    {
     "name": "stdout",
     "output_type": "stream",
     "text": [
      "product_id blanks: 0\n"
     ]
    }
   ],
   "source": [
    "print('product_id blanks:', pd.isna(txns_df['product_id']).sum())"
   ]
  },
  {
   "cell_type": "code",
   "execution_count": 50,
   "id": "5a6a6c02",
   "metadata": {},
   "outputs": [
    {
     "name": "stdout",
     "output_type": "stream",
     "text": [
      "customer_id blanks: 0\n"
     ]
    }
   ],
   "source": [
    "print('customer_id blanks:', pd.isna(txns_df['customer_id']).sum())"
   ]
  },
  {
   "cell_type": "code",
   "execution_count": 51,
   "id": "c66eed51",
   "metadata": {},
   "outputs": [
    {
     "data": {
      "text/plain": [
       "3494"
      ]
     },
     "execution_count": 51,
     "metadata": {},
     "output_type": "execute_result"
    }
   ],
   "source": [
    "pd.notna(txns_df['customer_id'].unique()).sum()"
   ]
  },
  {
   "cell_type": "code",
   "execution_count": 53,
   "id": "fc481012",
   "metadata": {},
   "outputs": [
    {
     "name": "stdout",
     "output_type": "stream",
     "text": [
      "customer_ids not in demographics dataset: 4\n",
      "customer_ids not in addresses dataset: 3\n"
     ]
    }
   ],
   "source": [
    "print('customer_ids not in demographics dataset:', sum([(1 if (i not in cust_df['customer_id']) else 0) for i in cust_addr_df['customer_id']]))\n",
    "print('customer_ids not in addresses dataset:', sum([(1 if (i not in cust_df['customer_id']) else 0) for i in txns_df['customer_id']]))"
   ]
  },
  {
   "cell_type": "code",
   "execution_count": 54,
   "id": "9f9ffc27",
   "metadata": {},
   "outputs": [
    {
     "data": {
      "text/plain": [
       "count                         20000\n",
       "mean     2017-07-01 14:08:05.280000\n",
       "min             2017-01-01 00:00:00\n",
       "25%             2017-04-01 00:00:00\n",
       "50%             2017-07-03 00:00:00\n",
       "75%             2017-10-02 00:00:00\n",
       "max             2017-12-30 00:00:00\n",
       "Name: transaction_date, dtype: object"
      ]
     },
     "execution_count": 54,
     "metadata": {},
     "output_type": "execute_result"
    }
   ],
   "source": [
    "txns_df['transaction_date'].describe(datetime_is_numeric=True)\n"
   ]
  },
  {
   "cell_type": "code",
   "execution_count": 55,
   "id": "0ae2b7fb",
   "metadata": {},
   "outputs": [
    {
     "name": "stdout",
     "output_type": "stream",
     "text": [
      "transaction_date blanks: 0\n"
     ]
    }
   ],
   "source": [
    "print('transaction_date blanks:', pd.isna(txns_df['transaction_date']).sum())"
   ]
  },
  {
   "cell_type": "code",
   "execution_count": 56,
   "id": "ea3218df",
   "metadata": {},
   "outputs": [
    {
     "name": "stdout",
     "output_type": "stream",
     "text": [
      "online_order: [ 0.  1. nan]\n",
      "blanks: 360\n"
     ]
    },
    {
     "data": {
      "text/plain": [
       "(array([9811.,    0.,    0.,    0.,    0.,    0.,    0.,    0.,    0.,\n",
       "        9829.]),\n",
       " array([0. , 0.1, 0.2, 0.3, 0.4, 0.5, 0.6, 0.7, 0.8, 0.9, 1. ]),\n",
       " <BarContainer object of 10 artists>)"
      ]
     },
     "execution_count": 56,
     "metadata": {},
     "output_type": "execute_result"
    },
    {
     "data": {
      "image/png": "[encoded data removed]",
      "text/plain": [
       "<Figure size 432x288 with 1 Axes>"
      ]
     },
     "metadata": {
      "needs_background": "light"
     },
     "output_type": "display_data"
    }
   ],
   "source": [
    "print('online_order:', txns_df['online_order'].unique())\n",
    "print('blanks:', pd.isna(txns_df['online_order']).sum())\n",
    "plt.hist(txns_df['online_order'][pd.notna(txns_df['online_order'])])"
   ]
  },
  {
   "cell_type": "code",
   "execution_count": 57,
   "id": "07830739",
   "metadata": {},
   "outputs": [
    {
     "name": "stdout",
     "output_type": "stream",
     "text": [
      "order_status: ['Approved' 'Cancelled']\n",
      "blanks: 0\n"
     ]
    },
    {
     "data": {
      "text/plain": [
       "(array([19821.,     0.,     0.,     0.,     0.,     0.,     0.,     0.,\n",
       "            0.,   179.]),\n",
       " array([0. , 0.1, 0.2, 0.3, 0.4, 0.5, 0.6, 0.7, 0.8, 0.9, 1. ]),\n",
       " <BarContainer object of 10 artists>)"
      ]
     },
     "execution_count": 57,
     "metadata": {},
     "output_type": "execute_result"
    },
    {
     "data": {
      "image/png": "[encoded data removed]",
      "text/plain": [
       "<Figure size 432x288 with 1 Axes>"
      ]
     },
     "metadata": {
      "needs_background": "light"
     },
     "output_type": "display_data"
    }
   ],
   "source": [
    "print('order_status:', txns_df['order_status'].unique())\n",
    "print('blanks:', pd.isna(txns_df['order_status']).sum())\n",
    "plt.hist(txns_df['order_status'][pd.notna(txns_df['order_status'])])"
   ]
  },
  {
   "cell_type": "code",
   "execution_count": 58,
   "id": "c32c16ad",
   "metadata": {},
   "outputs": [
    {
     "data": {
      "text/plain": [
       "179"
      ]
     },
     "execution_count": 58,
     "metadata": {},
     "output_type": "execute_result"
    }
   ],
   "source": [
    "txns_df['order_status'][txns_df['order_status'] == 'Cancelled'].count()"
   ]
  },
  {
   "cell_type": "code",
   "execution_count": 59,
   "id": "1886b272",
   "metadata": {},
   "outputs": [
    {
     "name": "stdout",
     "output_type": "stream",
     "text": [
      "brand: ['Solex' 'Trek Bicycles' 'OHM Cycles' 'Norco Bicycles' 'Giant Bicycles'\n",
      " 'WeareA2B' nan]\n",
      "blanks: 197\n"
     ]
    },
    {
     "data": {
      "text/plain": [
       "(array([4253.,    0., 2990.,    0., 3043.,    0., 2910.,    0., 3312.,\n",
       "        3295.]),\n",
       " array([0. , 0.5, 1. , 1.5, 2. , 2.5, 3. , 3.5, 4. , 4.5, 5. ]),\n",
       " <BarContainer object of 10 artists>)"
      ]
     },
     "execution_count": 59,
     "metadata": {},
     "output_type": "execute_result"
    },
    {
     "data": {
      "image/png": "[encoded data removed]",
      "text/plain": [
       "<Figure size 432x288 with 1 Axes>"
      ]
     },
     "metadata": {
      "needs_background": "light"
     },
     "output_type": "display_data"
    }
   ],
   "source": [
    "print('brand:', txns_df['brand'].unique())\n",
    "print('blanks:', pd.isna(txns_df['brand']).sum())\n",
    "plt.hist(txns_df['brand'][pd.notna(txns_df['brand'])])"
   ]
  },
  {
   "cell_type": "code",
   "execution_count": 60,
   "id": "a9e8bfe1",
   "metadata": {},
   "outputs": [
    {
     "name": "stdout",
     "output_type": "stream",
     "text": [
      "product_line: ['Standard' 'Road' 'Mountain' 'Touring' nan]\n",
      "blanks: 197\n"
     ]
    },
    {
     "data": {
      "text/plain": [
       "(array([14176.,     0.,     0.,  3970.,     0.,     0.,   423.,     0.,\n",
       "            0.,  1234.]),\n",
       " array([0. , 0.3, 0.6, 0.9, 1.2, 1.5, 1.8, 2.1, 2.4, 2.7, 3. ]),\n",
       " <BarContainer object of 10 artists>)"
      ]
     },
     "execution_count": 60,
     "metadata": {},
     "output_type": "execute_result"
    },
    {
     "data": {
      "image/png": "[encoded data removed]",
      "text/plain": [
       "<Figure size 432x288 with 1 Axes>"
      ]
     },
     "metadata": {
      "needs_background": "light"
     },
     "output_type": "display_data"
    }
   ],
   "source": [
    "print('product_line:', txns_df['product_line'].unique())\n",
    "print('blanks:', pd.isna(txns_df['product_line']).sum())\n",
    "plt.hist(txns_df['product_line'][pd.notna(txns_df['product_line'])])"
   ]
  },
  {
   "cell_type": "code",
   "execution_count": 61,
   "id": "e45a82d6",
   "metadata": {},
   "outputs": [
    {
     "name": "stdout",
     "output_type": "stream",
     "text": [
      "product_class: ['medium' 'low' 'high' nan]\n",
      "blanks: 197\n"
     ]
    },
    {
     "data": {
      "text/plain": [
       "(array([13826.,     0.,     0.,     0.,     0.,  2964.,     0.,     0.,\n",
       "            0.,  3013.]),\n",
       " array([0. , 0.2, 0.4, 0.6, 0.8, 1. , 1.2, 1.4, 1.6, 1.8, 2. ]),\n",
       " <BarContainer object of 10 artists>)"
      ]
     },
     "execution_count": 61,
     "metadata": {},
     "output_type": "execute_result"
    },
    {
     "data": {
      "image/png": "[encoded data removed]",
      "text/plain": [
       "<Figure size 432x288 with 1 Axes>"
      ]
     },
     "metadata": {
      "needs_background": "light"
     },
     "output_type": "display_data"
    }
   ],
   "source": [
    "print('product_class:', txns_df['product_class'].unique())\n",
    "print('blanks:', pd.isna(txns_df['product_class']).sum())\n",
    "plt.hist(txns_df['product_class'][pd.notna(txns_df['product_class'])])"
   ]
  },
  {
   "cell_type": "code",
   "execution_count": 62,
   "id": "8a2c3dcc",
   "metadata": {},
   "outputs": [
    {
     "name": "stdout",
     "output_type": "stream",
     "text": [
      "product_size: ['medium' 'large' 'small' nan]\n",
      "blanks: 197\n"
     ]
    },
    {
     "data": {
      "text/plain": [
       "(array([12990.,     0.,     0.,     0.,     0.,  3976.,     0.,     0.,\n",
       "            0.,  2837.]),\n",
       " array([0. , 0.2, 0.4, 0.6, 0.8, 1. , 1.2, 1.4, 1.6, 1.8, 2. ]),\n",
       " <BarContainer object of 10 artists>)"
      ]
     },
     "execution_count": 62,
     "metadata": {},
     "output_type": "execute_result"
    },
    {
     "data": {
      "image/png": "[encoded data removed]",
      "text/plain": [
       "<Figure size 432x288 with 1 Axes>"
      ]
     },
     "metadata": {
      "needs_background": "light"
     },
     "output_type": "display_data"
    }
   ],
   "source": [
    "print('product_size:', txns_df['product_size'].unique())\n",
    "print('blanks:', pd.isna(txns_df['product_size']).sum())\n",
    "plt.hist(txns_df['product_size'][pd.notna(txns_df['product_size'])])"
   ]
  },
  {
   "cell_type": "code",
   "execution_count": 63,
   "id": "1b97741f",
   "metadata": {},
   "outputs": [
    {
     "name": "stdout",
     "output_type": "stream",
     "text": [
      "product_first_sold_date blanks: 197\n"
     ]
    }
   ],
   "source": [
    "print('product_first_sold_date blanks:', pd.isna(txns_df['product_first_sold_date']).sum())"
   ]
  },
  {
   "cell_type": "code",
   "execution_count": 64,
   "id": "8f879d6b",
   "metadata": {},
   "outputs": [
    {
     "data": {
      "text/plain": [
       "<matplotlib.collections.PathCollection at 0x179f09d8cd0>"
      ]
     },
     "execution_count": 64,
     "metadata": {},
     "output_type": "execute_result"
    },
    {
     "data": {
      "image/png": "[encoded data removed]",
      "text/plain": [
       "<Figure size 432x288 with 1 Axes>"
      ]
     },
     "metadata": {
      "needs_background": "light"
     },
     "output_type": "display_data"
    }
   ],
   "source": [
    "plt.scatter(txns_df['brand'][pd.notna(txns_df['brand'])], txns_df['profit'][pd.notna(txns_df['brand'])])"
   ]
  },
  {
   "cell_type": "code",
   "execution_count": null,
   "id": "4963c359",
   "metadata": {},
   "outputs": [],
   "source": []
  },
  {
   "cell_type": "code",
   "execution_count": null,
   "id": "44ac26d8",
   "metadata": {},
   "outputs": [],
   "source": []
  },
  {
   "cell_type": "code",
   "execution_count": null,
   "id": "e5f3e1b5",
   "metadata": {},
   "outputs": [],
   "source": []
  },
  {
   "cell_type": "code",
   "execution_count": null,
   "id": "b5898881",
   "metadata": {},
   "outputs": [],
   "source": []
  },
  {
   "cell_type": "code",
   "execution_count": null,
   "id": "615c3bb6",
   "metadata": {},
   "outputs": [],
   "source": []
  },
  {
   "cell_type": "code",
   "execution_count": null,
   "id": "7b9a4865",
   "metadata": {},
   "outputs": [],
   "source": []
  },
  {
   "cell_type": "code",
   "execution_count": null,
   "id": "5c8e1a5f",
   "metadata": {},
   "outputs": [],
   "source": []
  },
  {
   "cell_type": "code",
   "execution_count": null,
   "id": "d2345eb6",
   "metadata": {},
   "outputs": [],
   "source": []
  }
 ],
 "metadata": {
  "kernelspec": {
   "display_name": "Python 3 (ipykernel)",
   "language": "python",
   "name": "python3"
  },
  "language_info": {
   "codemirror_mode": {
    "name": "ipython",
    "version": 3
   },
   "file_extension": ".py",
   "mimetype": "text/x-python",
   "name": "python",
   "nbconvert_exporter": "python",
   "pygments_lexer": "ipython3",
   "version": "3.9.12"
  }
 },
 "nbformat": 4,
 "nbformat_minor": 5
}
